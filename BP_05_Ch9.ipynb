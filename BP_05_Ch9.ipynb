{
  "nbformat": 4,
  "nbformat_minor": 0,
  "metadata": {
    "colab": {
      "provenance": [],
      "authorship_tag": "ABX9TyOXUP1+uFJeFwUmZJqzP4bJ",
      "include_colab_link": true
    },
    "kernelspec": {
      "name": "python3",
      "display_name": "Python 3"
    },
    "language_info": {
      "name": "python"
    }
  },
  "cells": [
    {
      "cell_type": "markdown",
      "metadata": {
        "id": "view-in-github",
        "colab_type": "text"
      },
      "source": [
        "<a href=\"https://colab.research.google.com/github/jieun334/BP_05_Ch9/blob/main/BP_05_Ch9.ipynb\" target=\"_parent\"><img src=\"https://colab.research.google.com/assets/colab-badge.svg\" alt=\"Open In Colab\"/></a>"
      ]
    },
    {
      "cell_type": "markdown",
      "source": [
        "1. 사용자로부터 5개의 숫자를 읽어서 리스트에 저장하고 숫자들의 평균을 계산하여 출력하는 프로그램을 작성해보자."
      ],
      "metadata": {
        "id": "LJRvxBpIsWIH"
      }
    },
    {
      "cell_type": "code",
      "source": [
        "alist = []\n",
        "sum = 0\n",
        "\n",
        "for i in range(5):\n",
        "  i = int(input(\"정수를 입력하시오 : \"))\n",
        "  alist.append(i)\n",
        "\n",
        "for i in alist:\n",
        "  sum += i\n",
        "avg = sum/len(alist)\n",
        "print(\"평균=\", avg)"
      ],
      "metadata": {
        "colab": {
          "base_uri": "https://localhost:8080/"
        },
        "id": "z9daPHL_seQc",
        "outputId": "38a31315-fb24-4dcc-e34a-a177450588e7"
      },
      "execution_count": 1,
      "outputs": [
        {
          "output_type": "stream",
          "name": "stdout",
          "text": [
            "정수를 입력하시오 : 10\n",
            "정수를 입력하시오 : 20\n",
            "정수를 입력하시오 : 30\n",
            "정수를 입력하시오 : 40\n",
            "정수를 입력하시오 : 50\n",
            "평균= 30.0\n"
          ]
        }
      ]
    },
    {
      "cell_type": "markdown",
      "source": [
        "2. 주사위를 던져서 나오는 값들의 빈도를 계산하는 프로그램을 작성해보자. 즉 1, 2, 3, 4, 5, 6의 값이 각각 몇 번이나 나오는지를 계산한다. 난수 발생 함수와 리스트를 사용해보자."
      ],
      "metadata": {
        "id": "YyD_qgCFs9Kk"
      }
    },
    {
      "cell_type": "code",
      "source": [
        "import random\n",
        "counters = [0, 0, 0, 0, 0, 0]\n",
        "\n",
        "for i in range(1000):\n",
        "        value = random.randint(0, 5)\n",
        "        counters[value] = counters[value] + 1\n",
        "\n",
        "for i in range(6):\n",
        "        print(\"주사위가\", i+1, \"인 경우는\", counters[i], \"번\")"
      ],
      "metadata": {
        "colab": {
          "base_uri": "https://localhost:8080/"
        },
        "id": "uWX7mx8jtG1Z",
        "outputId": "02d6ce75-8bbb-4a49-a547-6a33d9b44803"
      },
      "execution_count": 3,
      "outputs": [
        {
          "output_type": "stream",
          "name": "stdout",
          "text": [
            "주사위가 1 인 경우는 145 번\n",
            "주사위가 2 인 경우는 166 번\n",
            "주사위가 3 인 경우는 166 번\n",
            "주사위가 4 인 경우는 177 번\n",
            "주사위가 5 인 경우는 173 번\n",
            "주사위가 6 인 경우는 173 번\n"
          ]
        }
      ]
    },
    {
      "cell_type": "markdown",
      "source": [
        "3. 딕서너리를 사용하여서 친구들의 이름과 전화번호를 저장해보자. 사용자로부터 친구들의 이름과 전화번호를 입력받고 딕셔너리에 저장한다. 이름을 입력하지 않고 엔터키를 치면 검색모드가 된다. 검색 모드에서는 친구들의 이름으로 전화번호를 검색할 수 있도록 한다."
      ],
      "metadata": {
        "id": "YlPhyNDHuLU7"
      }
    },
    {
      "cell_type": "code",
      "source": [
        "contacts = {}\n",
        "\n",
        "while True:\n",
        "       name = input(\"(입력모드)이름을 입력하시오 : \")\n",
        "       if not name:\n",
        "              break;\n",
        "       tel = input(\"전화번호를 입력하시오 : \")\n",
        "       contacts[name] = tel\n",
        "\n",
        "while True:\n",
        "       name = input(\"(검색모드)이름을 입력하시오 : \")\n",
        "       if not name:\n",
        "              break;\n",
        "       if name in contacts :\n",
        "              print(name, \"의 전화번호는\", contacts[name], \"입니다.\")\n",
        "              else:"
      ],
      "metadata": {
        "colab": {
          "base_uri": "https://localhost:8080/",
          "height": 137
        },
        "id": "AA7WvcVEuXDt",
        "outputId": "7a800d55-2c8f-4cc5-8c96-fd95c7517ab2"
      },
      "execution_count": 19,
      "outputs": [
        {
          "output_type": "error",
          "ename": "SyntaxError",
          "evalue": "ignored",
          "traceback": [
            "\u001b[0;36m  File \u001b[0;32m\"<ipython-input-19-664ef86b5b73>\"\u001b[0;36m, line \u001b[0;32m16\u001b[0m\n\u001b[0;31m    else:\u001b[0m\n\u001b[0m       ^\u001b[0m\n\u001b[0;31mSyntaxError\u001b[0m\u001b[0;31m:\u001b[0m invalid syntax\n"
          ]
        }
      ]
    }
  ]
}