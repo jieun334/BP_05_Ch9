{
  "nbformat": 4,
  "nbformat_minor": 0,
  "metadata": {
    "colab": {
      "provenance": [],
      "authorship_tag": "ABX9TyM/9Zd0jw5/BPf7W2j0hVh0",
      "include_colab_link": true
    },
    "kernelspec": {
      "name": "python3",
      "display_name": "Python 3"
    },
    "language_info": {
      "name": "python"
    }
  },
  "cells": [
    {
      "cell_type": "markdown",
      "metadata": {
        "id": "view-in-github",
        "colab_type": "text"
      },
      "source": [
        "<a href=\"https://colab.research.google.com/github/jieun334/BP_05_Ch9/blob/main/BP_05_EX_Ch9.ipynb\" target=\"_parent\"><img src=\"https://colab.research.google.com/assets/colab-badge.svg\" alt=\"Open In Colab\"/></a>"
      ]
    },
    {
      "cell_type": "markdown",
      "source": [
        "1. 사용자로부터 5개의 숫자를 읽어서 리스트에 저장하고 숫자들의 평균을 계산하여 출력하는 프로그램을 작성해보자."
      ],
      "metadata": {
        "id": "LJRvxBpIsWIH"
      }
    },
    {
      "cell_type": "code",
      "source": [
        "alist = []\n",
        "sum = 0\n",
        "\n",
        "for i in range(5):\n",
        "  i = int(input(\"정수를 입력하시오 : \"))\n",
        "  alist.append(i)\n",
        "\n",
        "for i in alist:\n",
        "  sum += i\n",
        "avg = sum/len(alist)\n",
        "print(\"평균=\", avg)"
      ],
      "metadata": {
        "colab": {
          "base_uri": "https://localhost:8080/"
        },
        "id": "z9daPHL_seQc",
        "outputId": "38a31315-fb24-4dcc-e34a-a177450588e7"
      },
      "execution_count": null,
      "outputs": [
        {
          "output_type": "stream",
          "name": "stdout",
          "text": [
            "정수를 입력하시오 : 10\n",
            "정수를 입력하시오 : 20\n",
            "정수를 입력하시오 : 30\n",
            "정수를 입력하시오 : 40\n",
            "정수를 입력하시오 : 50\n",
            "평균= 30.0\n"
          ]
        }
      ]
    },
    {
      "cell_type": "markdown",
      "source": [
        "2. 주사위를 던져서 나오는 값들의 빈도를 계산하는 프로그램을 작성해보자. 즉 1, 2, 3, 4, 5, 6의 값이 각각 몇 번이나 나오는지를 계산한다. 난수 발생 함수와 리스트를 사용해보자."
      ],
      "metadata": {
        "id": "YyD_qgCFs9Kk"
      }
    },
    {
      "cell_type": "code",
      "source": [
        "import random\n",
        "counters = [0, 0, 0, 0, 0, 0]\n",
        "\n",
        "for i in range(1000):\n",
        "        value = random.randint(0, 5)\n",
        "        counters[value] = counters[value] + 1\n",
        "\n",
        "for i in range(6):\n",
        "        print(\"주사위가\", i+1, \"인 경우는\", counters[i], \"번\")"
      ],
      "metadata": {
        "colab": {
          "base_uri": "https://localhost:8080/"
        },
        "id": "uWX7mx8jtG1Z",
        "outputId": "02d6ce75-8bbb-4a49-a547-6a33d9b44803"
      },
      "execution_count": null,
      "outputs": [
        {
          "output_type": "stream",
          "name": "stdout",
          "text": [
            "주사위가 1 인 경우는 145 번\n",
            "주사위가 2 인 경우는 166 번\n",
            "주사위가 3 인 경우는 166 번\n",
            "주사위가 4 인 경우는 177 번\n",
            "주사위가 5 인 경우는 173 번\n",
            "주사위가 6 인 경우는 173 번\n"
          ]
        }
      ]
    },
    {
      "cell_type": "markdown",
      "source": [
        "3. 딕서너리를 사용하여서 친구들의 이름과 전화번호를 저장해보자. 사용자로부터 친구들의 이름과 전화번호를 입력받고 딕셔너리에 저장한다. 이름을 입력하지 않고 엔터키를 치면 검색모드가 된다. 검색 모드에서는 친구들의 이름으로 전화번호를 검색할 수 있도록 한다."
      ],
      "metadata": {
        "id": "YlPhyNDHuLU7"
      }
    },
    {
      "cell_type": "code",
      "source": [
        "contacts = {}\n",
        "\n",
        "while True:\n",
        "    name = input(\"(입력모드)이름을 입력하시오 : \")\n",
        "    if not name:\n",
        "        break;\n",
        "    tel = input(\"전화번호를 입력하시오 : \")\n",
        "    contacts[name] = tel\n",
        "\n",
        "while True:\n",
        "    search = input(\"(검색모드)이름을 입력하시오 : \")\n",
        "    if not search in contacts:\n",
        "        break;\n",
        "    print(search, \"의 전화번호는\", contacts[search], \"입니다.\")"
      ],
      "metadata": {
        "colab": {
          "base_uri": "https://localhost:8080/"
        },
        "id": "SjCVxgA257lM",
        "outputId": "5abe9823-e2d8-4aae-ffb8-1e02aad91990"
      },
      "execution_count": null,
      "outputs": [
        {
          "name": "stdout",
          "output_type": "stream",
          "text": [
            "(입력모드)이름을 입력하시오 : 조민서\n",
            "전화번호를 입력하시오 : 03-0105\n",
            "(입력모드)이름을 입력하시오 : 송민지\n",
            "전화번호를 입력하시오 : 02-0930\n"
          ]
        }
      ]
    },
    {
      "cell_type": "markdown",
      "source": [
        "4. 색상을 리스트에 저장한다. 리스트에 저장된 색상을 하나씩 꺼내어 거북이의 색상으로 설정하면서 속이 채워진 사각형을 그리는 프로그램을 작성해보자."
      ],
      "metadata": {
        "id": "Xs_GysMxzNZq"
      }
    },
    {
      "cell_type": "code",
      "source": [
        "import turtle\n",
        "import random\n",
        "t = turtle.Turtle()\n",
        "t.shape(\"turtle\")\n",
        "\n",
        "def draw_square(x, y, c):\n",
        "    t.up()\n",
        "    t.goto(x, y)\n",
        "    t.down()\n",
        "    t.color(\"black\",c)\n",
        "    t.begin_fill()\n",
        "    t.forward(100)\n",
        "    t.left(90)\n",
        "    t.forward(100)\n",
        "    t.left(90)\n",
        "    t.forward(100)\n",
        "    t.left(90)\n",
        "    t.forward(100)\n",
        "    t.left(90)\n",
        "    t.end_fill()\n",
        "\n",
        "\n",
        "for c in [\"yellow\", \"red\", \"purple\", \"blue\"]:\n",
        "    x = random.randint(-100, 100)\n",
        "    y = random.randint(-100, 100)\n",
        "    draw_square(x, y, c)\n",
        "    "
      ],
      "metadata": {
        "id": "PlX4BWeIzYHF"
      },
      "execution_count": null,
      "outputs": []
    },
    {
      "cell_type": "markdown",
      "source": [
        "5. 색상을 리스트에 저장한다. 리스트에 저장된 색상을 하나씩 꺼내어 거북이의 색상으로 설정하면서 속이 채워진 다각형을 그리는 프로그램을 작성해보자."
      ],
      "metadata": {
        "id": "VuHFLhaPzpvc"
      }
    },
    {
      "cell_type": "code",
      "source": [
        "import turtle\n",
        "import random\n",
        "\n",
        "\n",
        "t = turtle.Turtle()\n",
        "s = turtle.Screen()\n",
        "\n",
        "def draw_shape(t, c, length, sides, x, y):\n",
        "    t.up()\n",
        "    t.goto(x, y)\n",
        "    t.down()\n",
        "    t.fillcolor(c)\n",
        "    angle = 360.0 / sides\n",
        "    t.begin_fill()\n",
        "    for dist in range(sides):\n",
        "        t.forward(length)\n",
        "        t.left(angle)\n",
        "        t.end_fill()\n",
        "\n",
        "for i in range(10):\n",
        "    color = random.choice([ 'white', 'yellow', 'blue', 'skyblue', 'orange', 'green' ])\n",
        "    side_length = random.randint(10, 100)\n",
        "    sides = random.randint(3, 10)\n",
        "    x = random.randint(-200, 200)\n",
        "    y = random.randint(-200, 200)\n",
        "    draw_shape(t, color, side_length, sides, x, y)\n",
        "    "
      ],
      "metadata": {
        "id": "SQcHHxF5zxY6"
      },
      "execution_count": null,
      "outputs": []
    },
    {
      "cell_type": "markdown",
      "source": [
        "6. 색상을 리스트에 저장한다. 리스트에 저장된 색상을 하나씩 꺼내어 거북이의 색상으로 설정하면서 속이 채워진 별을 랜덤한 위치에 그리는 프로그램을 작성해보자."
      ],
      "metadata": {
        "id": "UMLuKCTf0C2n"
      }
    },
    {
      "cell_type": "code",
      "source": [
        "import turtle\n",
        "import random\n",
        "\n",
        "\n",
        "t = turtle.Turtle()\n",
        "s = turtle.Screen()\n",
        "s.bgcolor(\"black\")\n",
        "\n",
        "def draw_star(aturtle, colour, side_length, x, y):\n",
        "    aturtle.color(colour)\n",
        "    aturtle.begin_fill()\n",
        "    aturtle.penup()\n",
        "    aturtle.goto(x, y)\n",
        "    aturtle.pendown()\n",
        "    for i in range(5):\n",
        "        aturtle.forward(side_length)\n",
        "        aturtle.right(144)\n",
        "        aturtle.forward(side_length)\n",
        "    aturtle.end_fill()\n",
        "\n",
        "for i in range(20):\n",
        "    color = random.choice([ 'white', 'yellow', 'blue', 'skyblue', 'orange', 'green' ])\n",
        "    side_length = random.randint(10, 100)\n",
        "    x = random.randint(-200, 200)\n",
        "    y = random.randint(-200, 200)\n",
        "    draw_star(t, color, side_length, x, y)\n",
        "    "
      ],
      "metadata": {
        "id": "f3t75z7N0MCM"
      },
      "execution_count": null,
      "outputs": []
    },
    {
      "cell_type": "markdown",
      "source": [
        "7. 인터넷 도메인의 약자와 해당되는 국가를 딕셔너리에 저장해보자. 예를 들어서 \"kr\"은 대한민국으로 저장되어야 한다. 딕셔너리를 순회하면서 모든 키와 값을 출력하는 프로그램을 작성해보자."
      ],
      "metadata": {
        "id": "OTxJEMyH0kal"
      }
    },
    {
      "cell_type": "code",
      "source": [
        "domains = {\"kr\":\"대한민국\", \"sk\":\"슬로바키아\", \"no\":\"노르웨이\", \"us\":\"미국\",\n",
        "           \"jp\":\"일본\", \"hu\":\"헝가리\", \"de\":\"독일\"}\n",
        "\n",
        "for k, v in domains.items():\n",
        "    print(k, \": \", v)"
      ],
      "metadata": {
        "colab": {
          "base_uri": "https://localhost:8080/"
        },
        "id": "9Obp2n6B2Ogn",
        "outputId": "17f96d35-fb9c-4e04-adb7-1be0dbcf1fad"
      },
      "execution_count": 4,
      "outputs": [
        {
          "output_type": "stream",
          "name": "stdout",
          "text": [
            "kr :  대한민국\n",
            "sk :  슬로바키아\n",
            "no :  노르웨이\n",
            "us :  미국\n",
            "jp :  일본\n",
            "hu :  헝가리\n",
            "de :  독일\n"
          ]
        }
      ]
    },
    {
      "cell_type": "markdown",
      "source": [
        "8. 딕셔너리에 문제와 정답을 저장하고 하나씩 꺼내서 사용자에게 제시하는 프로그램을 작성해보자. 사용자는 문자열로 답해야 한다. 번호로 답할 수는 없다."
      ],
      "metadata": {
        "id": "6asYz7CR2_ZW"
      }
    },
    {
      "cell_type": "code",
      "source": [
        "problems = {\"파이썬\": \"최근에 가장 떠오르는 프로그래밍 언어\",\n",
        "            \"변수\": \"데이터를 저장하는 메모리 공간\",\n",
        "            \"함수\": \"작업을 수행하는 문장들의 집합에 이름을 붙인 것\",\n",
        "            \"리스트\": \"서로 관련이 없는 항목들의 모임\"}\n",
        "\n",
        "def show_words(problems):\n",
        "    display_message = \"\"\n",
        "    i=1\n",
        "    for word in problems.keys():\n",
        "        display_message += \"(\"+str(i)+\")\"\n",
        "        display_message += word + \" \"\n",
        "        i+=1\n",
        "    print( display_message)\n",
        "\n",
        "for meaning in problems.values():\n",
        "    print(\"다음은 어떤 단어에 대한 설명일까요?\")\n",
        "    print(\"＼\"+meaning+\"＼\")\n",
        "    correct = False\n",
        "    while not correct:\n",
        "        show_words(problems)\n",
        "        guessed_word = input(\"\")\n",
        "        if problems[guessed_word] == meaning:\n",
        "            print(\"정답입니다!\")\n",
        "            correct = True\n",
        "        else:\n",
        "            print(\"정답이 아닙니다.\")"
      ],
      "metadata": {
        "colab": {
          "base_uri": "https://localhost:8080/"
        },
        "id": "CrIEuT6f3H7b",
        "outputId": "21e093da-fde9-4e92-da73-0e3389989854"
      },
      "execution_count": 7,
      "outputs": [
        {
          "output_type": "stream",
          "name": "stdout",
          "text": [
            "다음은 어떤 단어에 대한 설명일까요?\n",
            "＼최근에 가장 떠오르는 프로그래밍 언어＼\n",
            "(1)파이썬 (2)변수 (3)함수 (4)리스트 \n",
            "파이썬\n",
            "정답입니다!\n",
            "다음은 어떤 단어에 대한 설명일까요?\n",
            "＼데이터를 저장하는 메모리 공간＼\n",
            "(1)파이썬 (2)변수 (3)함수 (4)리스트 \n",
            "변수\n",
            "정답입니다!\n",
            "다음은 어떤 단어에 대한 설명일까요?\n",
            "＼작업을 수행하는 문장들의 집합에 이름을 붙인 것＼\n",
            "(1)파이썬 (2)변수 (3)함수 (4)리스트 \n",
            "함수\n",
            "정답입니다!\n",
            "다음은 어떤 단어에 대한 설명일까요?\n",
            "＼서로 관련이 없는 항목들의 모임＼\n",
            "(1)파이썬 (2)변수 (3)함수 (4)리스트 \n",
            "리스트\n",
            "정답입니다!\n"
          ]
        }
      ]
    }
  ]
}